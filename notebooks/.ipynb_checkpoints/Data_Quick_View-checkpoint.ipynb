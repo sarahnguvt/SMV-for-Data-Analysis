{
 "cells": [
  {
   "cell_type": "markdown",
   "metadata": {
    "collapsed": true
   },
   "source": [
    "# Data Quick View\n",
    "\n",
    "It is very convenient to have a quick look at the data before more structured analyses or do ad-hoc profiling of the data with SMV."
   ]
  },
  {
   "cell_type": "code",
   "execution_count": 1,
   "metadata": {
    "collapsed": true
   },
   "outputs": [],
   "source": [
    "import smv\n",
    "from pandas import *\n",
    "from pyspark.sql import HiveContext, DataFrame\n",
    "from pyspark.sql.functions import col, sum, lit\n",
    "\n",
    "%matplotlib inline\n",
    "import matplotlib\n",
    "import matplotlib.pyplot as plt"
   ]
  },
  {
   "cell_type": "code",
   "execution_count": 2,
   "metadata": {
    "collapsed": false
   },
   "outputs": [
    {
     "name": "stdout",
     "output_type": "stream",
     "text": [
      "\n",
      "com.mycompany.testapp.stage1:\n",
      "  (O) stage1.EmploymentByState\n",
      "  (F) stage1.input.employment\n",
      "\n",
      "com.mycompany.testapp.stage2:\n",
      "  (O) stage2.StageEmpCategory\n",
      "  (L) stage2.input.EmploymentStateLink\n"
     ]
    }
   ],
   "source": [
    "ls()"
   ]
  },
  {
   "cell_type": "code",
   "execution_count": 3,
   "metadata": {
    "collapsed": false
   },
   "outputs": [],
   "source": [
    "# run/load modules\n",
    "#raw = ddf(\"com.mycompany.testapp.stage1.input.employment\")\n",
    "#out1 = ddf(\"com.mycompany.testapp.stage1.EmploymentByState\")\n",
    "raw = openCsv(\"data/input/employment/CB1200CZ11.csv\")"
   ]
  },
  {
   "cell_type": "code",
   "execution_count": 8,
   "metadata": {
    "collapsed": true
   },
   "outputs": [],
   "source": [
    "#self-defined functions with pandas applied\n",
    "DataFrame.smvPdHead = lambda df, n: df.toPandas().head(n)\n",
    "DataFrame.smvPdFreqHist = lambda df,col: df.toPandas()[col].value_counts().plot(kind='bar')"
   ]
  },
  {
   "cell_type": "markdown",
   "metadata": {},
   "source": [
    "\n",
    "### 1. A quick peek at the data"
   ]
  },
  {
   "cell_type": "markdown",
   "metadata": {},
   "source": [
    "quick peek of data schema and the first row"
   ]
  },
  {
   "cell_type": "code",
   "execution_count": 4,
   "metadata": {
    "collapsed": false
   },
   "outputs": [
    {
     "name": "stdout",
     "output_type": "stream",
     "text": [
      "ST:String            = 01\n",
      "ZIPCODE:String       = 35004\n",
      "GEO_ID:String        = 8610000US35004\n",
      "GEO_TTL:String       = 35004(MOODY,AL)\n",
      "FOOTID_GEO:String    = null\n",
      "NAICS2012:Integer    = 0\n",
      "NAICS2012_TTL:String = Total for all sectors\n",
      "FOOTID_NAICS:String  = null\n",
      "YEAR:String          = 2012\n",
      "ESTAB:Integer        = 167\n",
      "ESTAB_F:String       = null\n",
      "EMP:Integer          = 2574\n",
      "EMP_F:String         = null\n",
      "EMP_N:Integer        = 0\n",
      "EMP_N_F:String       = H\n",
      "PAYQTR1:Integer      = 19448\n",
      "PAYQTR1_F:String     = null\n",
      "PAYQTR1_N:Integer    = 0\n",
      "PAYQTR1_N_F:String   = H\n",
      "PAYANN:Integer       = 83803\n",
      "PAYANN_F:String      = null\n",
      "PAYANN_N:Integer     = 0\n",
      "PAYANN_N_F:String    = H\n"
     ]
    }
   ],
   "source": [
    "raw.peek()\n",
    "#raw.smvPdHead(5)"
   ]
  },
  {
   "cell_type": "markdown",
   "metadata": {},
   "source": [
    "\n",
    "**2.Quick distribution check**"
   ]
  },
  {
   "cell_type": "code",
   "execution_count": 5,
   "metadata": {
    "collapsed": false
   },
   "outputs": [
    {
     "name": "stdout",
     "output_type": "stream",
     "text": [
      "ST                   Non-Null Count         52\n",
      "ST                   Min Length             2\n",
      "ST                   Max Length             2\n",
      "ST                   Approx Distinct Count  52\n",
      "EMP                  Non-Null Count         52\n",
      "EMP                  Average                2170425.7884615385\n",
      "EMP                  Standard Deviation     2330941.3442028034\n",
      "EMP                  Min                    202724.0\n",
      "EMP                  Max                    1.2319102E7\n",
      "EMP_avg              Non-Null Count         52\n",
      "EMP_avg              Average                55086.01786556828\n",
      "EMP_avg              Standard Deviation     378700.63383193465\n",
      "EMP_avg              Min                    694.3002610966057\n",
      "EMP_avg              Max                    2733406.0\n"
     ]
    }
   ],
   "source": [
    "out1.smvEdd()"
   ]
  },
  {
   "cell_type": "markdown",
   "metadata": {},
   "source": [
    "\n",
    "**3.Check the distribution of certain columns**"
   ]
  },
  {
   "cell_type": "code",
   "execution_count": 21,
   "metadata": {
    "collapsed": false
   },
   "outputs": [
    {
     "name": "stdout",
     "output_type": "stream",
     "text": [
      "Histogram of ST: String sort by Key\n",
      "key                      count      Pct    cumCount   cumPct\n",
      "01                         770    1.98%         770    1.98%\n",
      "02                         260    0.67%        1030    2.65%\n",
      "04                         515    1.33%        1545    3.98%\n",
      "05                         658    1.70%        2203    5.68%\n",
      "06                        2457    6.33%        4660   12.00%\n",
      "08                         608    1.57%        5268   13.57%\n",
      "09                         397    1.02%        5665   14.59%\n",
      "10                          86    0.22%        5751   14.82%\n",
      "11                         172    0.44%        5923   15.26%\n",
      "12                        1439    3.71%        7362   18.97%\n",
      "13                         914    2.35%        8276   21.32%\n",
      "15                         130    0.33%        8406   21.65%\n",
      "16                         301    0.78%        8707   22.43%\n",
      "17                        1508    3.88%       10215   26.32%\n",
      "18                         920    2.37%       11135   28.69%\n",
      "19                         994    2.56%       12129   31.25%\n",
      "20                         731    1.88%       12860   33.13%\n",
      "21                         860    2.22%       13720   35.34%\n",
      "22                         685    1.76%       14405   37.11%\n",
      "23                         474    1.22%       14879   38.33%\n",
      "24                         574    1.48%       15453   39.81%\n",
      "25                         664    1.71%       16117   41.52%\n",
      "26                        1122    2.89%       17239   44.41%\n",
      "27                         936    2.41%       18175   46.82%\n",
      "28                         513    1.32%       18688   48.14%\n",
      "29                        1090    2.81%       19778   50.95%\n",
      "30                         377    0.97%       20155   51.92%\n",
      "31                         598    1.54%       20753   53.46%\n",
      "32                         234    0.60%       20987   54.07%\n",
      "33                         275    0.71%       21262   54.77%\n",
      "34                         705    1.82%       21967   56.59%\n",
      "35                         390    1.00%       22357   57.59%\n",
      "36                        2072    5.34%       24429   62.93%\n",
      "37                        1048    2.70%       25477   65.63%\n",
      "38                         391    1.01%       25868   66.64%\n",
      "39                        1342    3.46%       27210   70.10%\n",
      "40                         723    1.86%       27933   71.96%\n",
      "41                         460    1.19%       28393   73.14%\n",
      "42                        2039    5.25%       30432   78.40%\n",
      "44                          90    0.23%       30522   78.63%\n",
      "45                         518    1.33%       31040   79.96%\n",
      "46                         365    0.94%       31405   80.90%\n",
      "47                         754    1.94%       32159   82.85%\n",
      "48                        2389    6.15%       34548   89.00%\n",
      "49                         331    0.85%       34879   89.85%\n",
      "50                         304    0.78%       35183   90.64%\n",
      "51                        1129    2.91%       36312   93.54%\n",
      "53                         699    1.80%       37011   95.34%\n",
      "54                         766    1.97%       37777   97.32%\n",
      "55                         860    2.22%       38637   99.53%\n",
      "56                         180    0.46%       38817  100.00%\n",
      "99                           1    0.00%       38818  100.00%\n",
      "-------------------------------------------------\n"
     ]
    }
   ],
   "source": [
    "raw.smvHist(\"ST\")"
   ]
  },
  {
   "cell_type": "code",
   "execution_count": 26,
   "metadata": {
    "collapsed": false,
    "scrolled": true
   },
   "outputs": [
    {
     "data": {
      "text/plain": [
       "<matplotlib.axes.AxesSubplot at 0x10c5c1b50>"
      ]
     },
     "execution_count": 26,
     "metadata": {},
     "output_type": "execute_result"
    },
    {
     "data": {
      "image/png": "[encoded data removed]",
      "text/plain": [
       "<matplotlib.figure.Figure at 0x10c929250>"
      ]
     },
     "metadata": {},
     "output_type": "display_data"
    }
   ],
   "source": [
    "raw.smvPdFreqHist(\"ST\")"
   ]
  },
  {
   "cell_type": "code",
   "execution_count": 16,
   "metadata": {
    "collapsed": false
   },
   "outputs": [
    {
     "ename": "TypeError",
     "evalue": "'Column' object is not callable",
     "output_type": "error",
     "traceback": [
      "\u001b[0;31m---------------------------------------------------------------------------\u001b[0m",
      "\u001b[0;31mTypeError\u001b[0m                                 Traceback (most recent call last)",
      "\u001b[0;32m<ipython-input-16-fd99d633a35c>\u001b[0m in \u001b[0;36m<module>\u001b[0;34m()\u001b[0m\n\u001b[0;32m----> 1\u001b[0;31m \u001b[0mout1\u001b[0m\u001b[0;34m.\u001b[0m\u001b[0mselect\u001b[0m\u001b[0;34m(\u001b[0m\u001b[0mcol\u001b[0m\u001b[0;34m(\u001b[0m\u001b[0;34m\"EMP\"\u001b[0m\u001b[0;34m)\u001b[0m\u001b[0;34m.\u001b[0m\u001b[0msmvNullSub\u001b[0m\u001b[0;34m(\u001b[0m\u001b[0;36m0\u001b[0m\u001b[0;34m)\u001b[0m\u001b[0;34m.\u001b[0m\u001b[0malias\u001b[0m\u001b[0;34m(\u001b[0m\u001b[0;34m\"EMP_bin\"\u001b[0m\u001b[0;34m)\u001b[0m\u001b[0;34m)\u001b[0m\u001b[0;34m.\u001b[0m\u001b[0mshow\u001b[0m\u001b[0;34m(\u001b[0m\u001b[0;34m)\u001b[0m\u001b[0;34m\u001b[0m\u001b[0m\n\u001b[0m",
      "\u001b[0;31mTypeError\u001b[0m: 'Column' object is not callable"
     ]
    }
   ],
   "source": [
    "out1.select(col(\"EMP\").smvNullSub(0).alias(\"EMP_bin\")).show()"
   ]
  },
  {
   "cell_type": "code",
   "execution_count": null,
   "metadata": {
    "collapsed": true
   },
   "outputs": [],
   "source": []
  },
  {
   "cell_type": "code",
   "execution_count": null,
   "metadata": {
    "collapsed": true
   },
   "outputs": [],
   "source": []
  }
 ],
 "metadata": {
  "kernelspec": {
   "display_name": "Python 2",
   "language": "python",
   "name": "python2"
  },
  "language_info": {
   "codemirror_mode": {
    "name": "ipython",
    "version": 2
   },
   "file_extension": ".py",
   "mimetype": "text/x-python",
   "name": "python",
   "nbconvert_exporter": "python",
   "pygments_lexer": "ipython2",
   "version": "2.7.10"
  }
 },
 "nbformat": 4,
 "nbformat_minor": 1
}
