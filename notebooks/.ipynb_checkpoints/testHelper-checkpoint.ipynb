{
 "cells": [
  {
   "cell_type": "code",
   "execution_count": 1,
   "metadata": {
    "collapsed": false
   },
   "outputs": [],
   "source": [
    "import sys\n",
    "import smv\n",
    "from pandas import *\n",
    "import numpy as np\n",
    "from pyspark.sql import HiveContext, DataFrame\n",
    "\n",
    "%matplotlib inline\n",
    "import matplotlib\n",
    "import matplotlib.pyplot as plt"
   ]
  },
  {
   "cell_type": "code",
   "execution_count": 2,
   "metadata": {
    "collapsed": true
   },
   "outputs": [],
   "source": [
    "a = ddf(\"com.mycompany.testapp.stage1.EmploymentRawData\")\n",
    "c = ddf(\"com.mycompany.testapp.stage1.EmploymentByState\")"
   ]
  },
  {
   "cell_type": "code",
   "execution_count": 6,
   "metadata": {
    "collapsed": false
   },
   "outputs": [],
   "source": [
    "## temporarily put below funcs into smv.py\n",
    "DataFrame.phead = lambda df, n: df.toPandas().head(n)\n",
    "\n",
    "#smvFreqHist for 1 column\n",
    "DataFrame.pfreqhist = lambda df,col: df.toPandas()[col].value_counts().plot(kind='bar')\n",
    "\n",
    "#smvCountHist for 1 column\n",
    "DataFrame.pcounthist = lambda df,col: df.toPandas()[col].value_counts().hist()\n",
    "\n",
    "#smvFreqHist for multi columns\n",
    "def _pfreqhist(df, *cols):\n",
    "    pdf = df.toPandas()\n",
    "    no_cols = len(cols)\n",
    "    fig = plt.figure()\n",
    "    num = 1\n",
    "    \n",
    "    for col in cols:\n",
    "        fig.add_subplot(no_cols,1,num)\n",
    "        s = pdf[col].value_counts()\n",
    "        ax = s.plot(kind='bar', color='k', alpha=0.3)\n",
    "        ax.set_xticklabels(s.index, fontsize=6)\n",
    "        num += 1\n",
    "        \n",
    "DataFrame.pfreqhistmulti = lambda df, *cols: _pfreqhist(df, *cols)"
   ]
  },
  {
   "cell_type": "code",
   "execution_count": 4,
   "metadata": {
    "collapsed": false,
    "scrolled": true
   },
   "outputs": [
    {
     "data": {
      "text/html": [
       "<div>\n",
       "<table border=\"1\" class=\"dataframe\">\n",
       "  <thead>\n",
       "    <tr style=\"text-align: right;\">\n",
       "      <th></th>\n",
       "      <th>ST</th>\n",
       "      <th>ZIPCODE</th>\n",
       "      <th>GEO_ID</th>\n",
       "      <th>GEO_TTL</th>\n",
       "      <th>FOOTID_GEO</th>\n",
       "      <th>NAICS2012</th>\n",
       "      <th>NAICS2012_TTL</th>\n",
       "      <th>FOOTID_NAICS</th>\n",
       "      <th>YEAR</th>\n",
       "      <th>ESTAB</th>\n",
       "      <th>...</th>\n",
       "      <th>EMP_N</th>\n",
       "      <th>EMP_N_F</th>\n",
       "      <th>PAYQTR1</th>\n",
       "      <th>PAYQTR1_F</th>\n",
       "      <th>PAYQTR1_N</th>\n",
       "      <th>PAYQTR1_N_F</th>\n",
       "      <th>PAYANN</th>\n",
       "      <th>PAYANN_F</th>\n",
       "      <th>PAYANN_N</th>\n",
       "      <th>PAYANN_N_F</th>\n",
       "    </tr>\n",
       "  </thead>\n",
       "  <tbody>\n",
       "    <tr>\n",
       "      <th>0</th>\n",
       "      <td>01</td>\n",
       "      <td>35004</td>\n",
       "      <td>8610000US35004</td>\n",
       "      <td>35004(MOODY,AL)</td>\n",
       "      <td>None</td>\n",
       "      <td>0</td>\n",
       "      <td>Total for all sectors</td>\n",
       "      <td>None</td>\n",
       "      <td>2012</td>\n",
       "      <td>167</td>\n",
       "      <td>...</td>\n",
       "      <td>0</td>\n",
       "      <td>H</td>\n",
       "      <td>19448</td>\n",
       "      <td>None</td>\n",
       "      <td>0</td>\n",
       "      <td>H</td>\n",
       "      <td>83803</td>\n",
       "      <td>None</td>\n",
       "      <td>0</td>\n",
       "      <td>H</td>\n",
       "    </tr>\n",
       "    <tr>\n",
       "      <th>1</th>\n",
       "      <td>01</td>\n",
       "      <td>35005</td>\n",
       "      <td>8610000US35005</td>\n",
       "      <td>35005(ADAMSVILLE,AL)</td>\n",
       "      <td>None</td>\n",
       "      <td>0</td>\n",
       "      <td>Total for all sectors</td>\n",
       "      <td>None</td>\n",
       "      <td>2012</td>\n",
       "      <td>88</td>\n",
       "      <td>...</td>\n",
       "      <td>0</td>\n",
       "      <td>G</td>\n",
       "      <td>3948</td>\n",
       "      <td>None</td>\n",
       "      <td>0</td>\n",
       "      <td>G</td>\n",
       "      <td>16299</td>\n",
       "      <td>None</td>\n",
       "      <td>0</td>\n",
       "      <td>G</td>\n",
       "    </tr>\n",
       "  </tbody>\n",
       "</table>\n",
       "<p>2 rows × 23 columns</p>\n",
       "</div>"
      ],
      "text/plain": [
       "   ST ZIPCODE          GEO_ID               GEO_TTL FOOTID_GEO  NAICS2012  \\\n",
       "0  01   35004  8610000US35004       35004(MOODY,AL)       None          0   \n",
       "1  01   35005  8610000US35005  35005(ADAMSVILLE,AL)       None          0   \n",
       "\n",
       "           NAICS2012_TTL FOOTID_NAICS  YEAR  ESTAB     ...     EMP_N  EMP_N_F  \\\n",
       "0  Total for all sectors         None  2012    167     ...         0        H   \n",
       "1  Total for all sectors         None  2012     88     ...         0        G   \n",
       "\n",
       "  PAYQTR1  PAYQTR1_F PAYQTR1_N  PAYQTR1_N_F PAYANN  PAYANN_F PAYANN_N  \\\n",
       "0   19448       None         0            H  83803      None        0   \n",
       "1    3948       None         0            G  16299      None        0   \n",
       "\n",
       "   PAYANN_N_F  \n",
       "0           H  \n",
       "1           G  \n",
       "\n",
       "[2 rows x 23 columns]"
      ]
     },
     "execution_count": 4,
     "metadata": {},
     "output_type": "execute_result"
    }
   ],
   "source": [
    "a.phead(2)"
   ]
  },
  {
   "cell_type": "code",
   "execution_count": 5,
   "metadata": {
    "collapsed": false,
    "scrolled": false
   },
   "outputs": [
    {
     "data": {
      "text/plain": [
       "<matplotlib.axes.AxesSubplot at 0x10a89cd10>"
      ]
     },
     "execution_count": 5,
     "metadata": {},
     "output_type": "execute_result"
    },
    {
     "data": {
      "image/png": "[encoded data removed]",
      "text/plain": [
       "<matplotlib.figure.Figure at 0x108482990>"
      ]
     },
     "metadata": {},
     "output_type": "display_data"
    }
   ],
   "source": [
    "a.pcounthist(\"ST\")"
   ]
  },
  {
   "cell_type": "code",
   "execution_count": 7,
   "metadata": {
    "collapsed": false
   },
   "outputs": [
    {
     "data": {
      "text/plain": [
       "<matplotlib.axes.AxesSubplot at 0x10aaa2350>"
      ]
     },
     "execution_count": 7,
     "metadata": {},
     "output_type": "execute_result"
    },
    {
     "data": {
      "image/png": "[encoded data removed]",
      "text/plain": [
       "<matplotlib.figure.Figure at 0x10aaa2f90>"
      ]
     },
     "metadata": {},
     "output_type": "display_data"
    }
   ],
   "source": [
    "a.pfreqhist(\"ST\")"
   ]
  },
  {
   "cell_type": "code",
   "execution_count": 9,
   "metadata": {
    "collapsed": false
   },
   "outputs": [
    {
     "name": "stdout",
     "output_type": "stream",
     "text": [
      "Histogram of ST: String sort by Key\n",
      "key                      count      Pct    cumCount   cumPct\n",
      "01                           1    1.92%           1    1.92%\n",
      "02                           1    1.92%           2    3.85%\n",
      "04                           1    1.92%           3    5.77%\n",
      "05                           1    1.92%           4    7.69%\n",
      "06                           1    1.92%           5    9.62%\n",
      "08                           1    1.92%           6   11.54%\n",
      "09                           1    1.92%           7   13.46%\n",
      "10                           1    1.92%           8   15.38%\n",
      "11                           1    1.92%           9   17.31%\n",
      "12                           1    1.92%          10   19.23%\n",
      "13                           1    1.92%          11   21.15%\n",
      "15                           1    1.92%          12   23.08%\n",
      "16                           1    1.92%          13   25.00%\n",
      "17                           1    1.92%          14   26.92%\n",
      "18                           1    1.92%          15   28.85%\n",
      "19                           1    1.92%          16   30.77%\n",
      "20                           1    1.92%          17   32.69%\n",
      "21                           1    1.92%          18   34.62%\n",
      "22                           1    1.92%          19   36.54%\n",
      "23                           1    1.92%          20   38.46%\n",
      "24                           1    1.92%          21   40.38%\n",
      "25                           1    1.92%          22   42.31%\n",
      "26                           1    1.92%          23   44.23%\n",
      "27                           1    1.92%          24   46.15%\n",
      "28                           1    1.92%          25   48.08%\n",
      "29                           1    1.92%          26   50.00%\n",
      "30                           1    1.92%          27   51.92%\n",
      "31                           1    1.92%          28   53.85%\n",
      "32                           1    1.92%          29   55.77%\n",
      "33                           1    1.92%          30   57.69%\n",
      "34                           1    1.92%          31   59.62%\n",
      "35                           1    1.92%          32   61.54%\n",
      "36                           1    1.92%          33   63.46%\n",
      "37                           1    1.92%          34   65.38%\n",
      "38                           1    1.92%          35   67.31%\n",
      "39                           1    1.92%          36   69.23%\n",
      "40                           1    1.92%          37   71.15%\n",
      "41                           1    1.92%          38   73.08%\n",
      "42                           1    1.92%          39   75.00%\n",
      "44                           1    1.92%          40   76.92%\n",
      "45                           1    1.92%          41   78.85%\n",
      "46                           1    1.92%          42   80.77%\n",
      "47                           1    1.92%          43   82.69%\n",
      "48                           1    1.92%          44   84.62%\n",
      "49                           1    1.92%          45   86.54%\n",
      "50                           1    1.92%          46   88.46%\n",
      "51                           1    1.92%          47   90.38%\n",
      "53                           1    1.92%          48   92.31%\n",
      "54                           1    1.92%          49   94.23%\n",
      "55                           1    1.92%          50   96.15%\n",
      "56                           1    1.92%          51   98.08%\n",
      "99                           1    1.92%          52  100.00%\n",
      "-------------------------------------------------\n",
      "Histogram of EMP: with BIN size 100.0\n",
      "key                      count      Pct    cumCount   cumPct\n",
      "202700.0                     1    1.92%           1    1.92%\n",
      "245000.0                     1    1.92%           2    3.85%\n",
      "250000.0                     1    1.92%           3    5.77%\n",
      "304800.0                     1    1.92%           4    7.69%\n",
      "311000.0                     1    1.92%           5    9.62%\n",
      "326300.0                     1    1.92%           6   11.54%\n",
      "337700.0                     1    1.92%           7   13.46%\n",
      "388400.0                     1    1.92%           8   15.38%\n",
      "445100.0                     1    1.92%           9   17.31%\n",
      "471400.0                     1    1.92%          10   19.23%\n",
      "471500.0                     1    1.92%          11   21.15%\n",
      "476900.0                     1    1.92%          12   23.08%\n",
      "508100.0                     1    1.92%          13   25.00%\n",
      "531800.0                     1    1.92%          14   26.92%\n",
      "579900.0                     1    1.92%          15   28.85%\n",
      "743300.0                     1    1.92%          16   30.77%\n",
      "854700.0                     1    1.92%          17   32.69%\n",
      "934600.0                     1    1.92%          18   34.62%\n",
      "959500.0                     1    1.92%          19   36.54%\n",
      "981200.0                     1    1.92%          20   38.46%\n",
      "1071400.0                    1    1.92%          21   40.38%\n",
      "1212000.0                    1    1.92%          22   42.31%\n",
      "1247600.0                    1    1.92%          23   44.23%\n",
      "1340100.0                    1    1.92%          24   46.15%\n",
      "1395400.0                    1    1.92%          25   48.08%\n",
      "1444900.0                    1    1.92%          26   50.00%\n",
      "1477900.0                    1    1.92%          27   51.92%\n",
      "1501100.0                    1    1.92%          28   53.85%\n",
      "1576600.0                    1    1.92%          29   55.77%\n",
      "1925300.0                    1    1.92%          30   57.69%\n",
      "2027200.0                    1    1.92%          31   59.62%\n",
      "2100700.0                    1    1.92%          32   61.54%\n",
      "2228700.0                    1    1.92%          33   63.46%\n",
      "2233400.0                    1    1.92%          34   65.38%\n",
      "2310400.0                    1    1.92%          35   67.31%\n",
      "2325800.0                    1    1.92%          36   69.23%\n",
      "2384900.0                    1    1.92%          37   71.15%\n",
      "2422300.0                    1    1.92%          38   73.08%\n",
      "2733400.0                    1    1.92%          39   75.00%\n",
      "2933600.0                    1    1.92%          40   76.92%\n",
      "2953300.0                    1    1.92%          41   78.85%\n",
      "3191000.0                    1    1.92%          42   80.77%\n",
      "3223000.0                    1    1.92%          43   82.69%\n",
      "3290100.0                    1    1.92%          44   84.62%\n",
      "3324100.0                    1    1.92%          45   86.54%\n",
      "4320900.0                    1    1.92%          46   88.46%\n",
      "4896300.0                    1    1.92%          47   90.38%\n",
      "4903700.0                    1    1.92%          48   92.31%\n",
      "6092200.0                    1    1.92%          49   94.23%\n",
      "7279300.0                    1    1.92%          50   96.15%\n",
      "8850000.0                    1    1.92%          51   98.08%\n",
      "1.23191E7                    1    1.92%          52  100.00%\n",
      "-------------------------------------------------\n"
     ]
    }
   ],
   "source": [
    "c.smvHist(\"ST\", \"EMP\")"
   ]
  },
  {
   "cell_type": "markdown",
   "metadata": {},
   "source": [
    "\n",
    "----\n",
    "**Convert to pandas first for test**"
   ]
  },
  {
   "cell_type": "code",
   "execution_count": 10,
   "metadata": {
    "collapsed": true
   },
   "outputs": [],
   "source": [
    "b = a.toPandas()\n",
    "d = c.toPandas()"
   ]
  },
  {
   "cell_type": "code",
   "execution_count": 5,
   "metadata": {
    "collapsed": false
   },
   "outputs": [
    {
     "data": {
      "text/plain": [
       "array([[<matplotlib.axes.AxesSubplot object at 0x1111ca090>,\n",
       "        <matplotlib.axes.AxesSubplot object at 0x11105e9d0>]], dtype=object)"
      ]
     },
     "execution_count": 5,
     "metadata": {},
     "output_type": "execute_result"
    },
    {
     "data": {
      "image/png": "[encoded data removed]",
      "text/plain": [
       "<matplotlib.figure.Figure at 0x1103f3110>"
      ]
     },
     "metadata": {},
     "output_type": "display_data"
    }
   ],
   "source": []
  },
  {
   "cell_type": "code",
   "execution_count": 6,
   "metadata": {
    "collapsed": false
   },
   "outputs": [
    {
     "data": {
      "image/png": "[encoded data removed]",
      "text/plain": [
       "<matplotlib.figure.Figure at 0x111f03ad0>"
      ]
     },
     "metadata": {},
     "output_type": "display_data"
    }
   ],
   "source": [
    "cols=\"ST, YEAR\"\n",
    "cols_lst=[i.strip() for i in cols.rsplit(\",\")]\n",
    "no_cols=len(cols_lst)\n",
    "fig = plt.figure()\n",
    "\n",
    "for i in range(no_cols):\n",
    "    fig.add_subplot(no_cols,1,i+1)\n",
    "    s = b[cols_lst[i]].value_counts()\n",
    "    ax = s.plot(kind='bar', color='k', alpha=0.3)\n",
    "    ax.set_xticklabels(s.index, fontsize=6)"
   ]
  },
  {
   "cell_type": "code",
   "execution_count": 21,
   "metadata": {
    "collapsed": false
   },
   "outputs": [],
   "source": [
    "def dfhelper(df):\n",
    "    return _sparkContext()._jvm.SmvDFHelper(df._jdf)\n",
    "def _smvHist(df, *cols): \n",
    "    #print cols\n",
    "    return dfhelper(df)._smvHist(_to_seq(cols))\n",
    "#_smvHist(c,\"ST\", \"EMP\")"
   ]
  },
  {
   "cell_type": "code",
   "execution_count": 31,
   "metadata": {
    "collapsed": false
   },
   "outputs": [],
   "source": [
    "def _test(df, *cols):\n",
    "    for i in cols:\n",
    "        print i,cols[i]"
   ]
  },
  {
   "cell_type": "code",
   "execution_count": 32,
   "metadata": {
    "collapsed": false
   },
   "outputs": [
    {
     "name": "stdout",
     "output_type": "stream",
     "text": [
      "ST"
     ]
    },
    {
     "ename": "TypeError",
     "evalue": "tuple indices must be integers, not str",
     "output_type": "error",
     "traceback": [
      "\u001b[0;31m---------------------------------------------------------------------------\u001b[0m",
      "\u001b[0;31mTypeError\u001b[0m                                 Traceback (most recent call last)",
      "\u001b[0;32m<ipython-input-32-0d849965bd0d>\u001b[0m in \u001b[0;36m<module>\u001b[0;34m()\u001b[0m\n\u001b[0;32m----> 1\u001b[0;31m \u001b[0m_test\u001b[0m\u001b[0;34m(\u001b[0m\u001b[0ma\u001b[0m\u001b[0;34m,\u001b[0m\u001b[0;34m'ST'\u001b[0m\u001b[0;34m,\u001b[0m \u001b[0;34m'YEAR'\u001b[0m\u001b[0;34m)\u001b[0m\u001b[0;34m\u001b[0m\u001b[0m\n\u001b[0m",
      "\u001b[0;32m<ipython-input-31-4bcef16b50a4>\u001b[0m in \u001b[0;36m_test\u001b[0;34m(df, *cols)\u001b[0m\n\u001b[1;32m      1\u001b[0m \u001b[0;32mdef\u001b[0m \u001b[0m_test\u001b[0m\u001b[0;34m(\u001b[0m\u001b[0mdf\u001b[0m\u001b[0;34m,\u001b[0m \u001b[0;34m*\u001b[0m\u001b[0mcols\u001b[0m\u001b[0;34m)\u001b[0m\u001b[0;34m:\u001b[0m\u001b[0;34m\u001b[0m\u001b[0m\n\u001b[1;32m      2\u001b[0m     \u001b[0;32mfor\u001b[0m \u001b[0mi\u001b[0m \u001b[0;32min\u001b[0m \u001b[0mcols\u001b[0m\u001b[0;34m:\u001b[0m\u001b[0;34m\u001b[0m\u001b[0m\n\u001b[0;32m----> 3\u001b[0;31m         \u001b[0;32mprint\u001b[0m \u001b[0mi\u001b[0m\u001b[0;34m,\u001b[0m\u001b[0mcols\u001b[0m\u001b[0;34m[\u001b[0m\u001b[0mi\u001b[0m\u001b[0;34m]\u001b[0m\u001b[0;34m\u001b[0m\u001b[0m\n\u001b[0m",
      "\u001b[0;31mTypeError\u001b[0m: tuple indices must be integers, not str"
     ]
    }
   ],
   "source": [
    "_test(a,'ST', 'YEAR')"
   ]
  },
  {
   "cell_type": "code",
   "execution_count": null,
   "metadata": {
    "collapsed": true
   },
   "outputs": [],
   "source": []
  }
 ],
 "metadata": {
  "kernelspec": {
   "display_name": "Python 2",
   "language": "python",
   "name": "python2"
  },
  "language_info": {
   "codemirror_mode": {
    "name": "ipython",
    "version": 2
   },
   "file_extension": ".py",
   "mimetype": "text/x-python",
   "name": "python",
   "nbconvert_exporter": "python",
   "pygments_lexer": "ipython2",
   "version": "2.7.10"
  }
 },
 "nbformat": 4,
 "nbformat_minor": 1
}
